{
 "cells": [
  {
   "cell_type": "markdown",
   "metadata": {},
   "source": [
    "# MIDTERM PROJECT-1 (MT1)\n",
    "\n",
    "## Due 25 Mar 2016 (Friday, 11:59pm)\n",
    "\n",
    "**Important Note:** Before uploading your midterm project on Canvas, please name your file as following:\n",
    "\n",
    "*MT#_FirstLastName.ipynb*\n",
    "\n",
    "where \"#\" denotes the midterm number, \"FirstLastName\" is the name of the student. Students are allowed to work in groups (2 or max. of 3 students). **Each student will hand in their own file**. If you work with another student, please write her/his name on top of the first cell (in a Markdown cell)."
   ]
  },
  {
   "cell_type": "markdown",
   "metadata": {},
   "source": [
    "**Question-1 (12/15 points): MINE SWEEPERS (COLLECTORS)**\n",
    "\n",
    "In this exercise, you will integrate your neuroevolution algorithm (HC+ANN or DEAP+ANN), that you previously developed, with the mine sweepers game that is uploaded in \"MT1.zip\" file. The general working principles of the game is explained in \"mine sweepers.pdf\" file that is previously uploaded on Canvas as the reading assignment. You are not responsible of C++ codes provided in the text, but you may use it as an inspiration while integrating \"artificial brains\" in the agents and helping them get \"smarter\".  \n",
    "\n",
    "**NOTES**\n",
    "\n",
    "* **HC**: Hill Climbing, **ANN**: Artificial Neural Network, **DEAP**: Distributed Evolutionary Algorithms in Python\n",
    "* PyGame does/may not work on Mac OS properly, therefore installation of **Virtual Box** (VB) and **Ubuntu** Linux OS in it is recommended.\n",
    "* You can test your codes in VB, but you need to provide your report in IPython Notebook file at the end. You should also upload your codes in a compressed (.zip) file on Canvas.\n",
    "\n",
    "**A) (3/12 points)** Run the game before implementing neuroevolution codes. This is a very important step. If the game cannot be executed, rest of the exercises cannot be performed.\n",
    "\n",
    "**B) (9/12 points)** Prepare your report in the following format:"
   ]
  },
  {
   "cell_type": "markdown",
   "metadata": {},
   "source": [
    "**Abstract**: \n",
    "\n",
    "* **Briefly** explain the purpose of the exercise, the methodology you followed and the results you obtained. Only one paragraph.\n",
    "\n",
    "**Introduction**:\n",
    "\n",
    "* First paragraph: A short description (3-5 sentences) of the problem (game mechanics, objectives, score evaluation, etc.).\n",
    "* Second paragraph: A short introduction to the description of the methodology you have chosen and 2-3 citations from the literature (4-6 sentences).\n",
    "\n",
    "**Methodology**:\n",
    "\n",
    "* If you use an ANN, what are the inputs and outputs to your ANN and what is the topology you used?\n",
    "* How did you train your ANN? HC or GA/ES in DEAP? or else?\n",
    "* How many experiments did you perform?\n",
    "* Which statistics did you measured (mean of the best fitness, mean fitness, standard deviation of individual fitnesses, etc.)?\n",
    "\n",
    "**Results and Discussions**:\n",
    "\n",
    "* You can provide a figure showing the average and best fitness curves as function of number of generations. If you perform multiple experiements (which is preferred), you may try to show the average statistics for all experiements. If it looks difficult, you can plot all average and best fitnesses in two figures separately.\n",
    "* You can provide a video of agents before and after training. It is assumed that the codes will not run in IPython notebook. \n",
    "\n",
    "**Conclusions**:\n",
    "\n",
    "* Wrap up your work like you do in Abstract section and provide detailed summary of the results. \n",
    "* If your approach didn't work, you can still give the arguments to help potential readers to avoid the same mistakes.\n",
    "\n",
    "**References**:\n",
    "\n",
    "* List your citations with the order of: Author1, Author2, \"Title of the article\", Name of the Journal or Conference that the paper published at, Pages, Year.  \n"
   ]
  },
  {
   "cell_type": "markdown",
   "metadata": {},
   "source": [
    "**Question-2 (3/15 points): VENTING ASSIGNMENT**\n",
    "\n",
    "This section is prepared for you to give some feedback to the instructor about your experience so far about the course (until 8th week, *PART-I: THEORY*). You don't need to worry about your your comments as long as they are constructive. **Your comments will be helpful to make the rest of the course more instructive, interesting and fun for you**. Combination of positive and negative comments will be appreciated. Please don't provide **ONLY** positive or negative feedback."
   ]
  },
  {
   "cell_type": "markdown",
   "metadata": {},
   "source": [
    "**A)** What do you think about the number of homeworks? Were they difficult? Were they helpful for understanding the basic concepts?\n",
    "\n",
    "**Comments:**"
   ]
  },
  {
   "cell_type": "markdown",
   "metadata": {},
   "source": [
    "**B)** Did you find the reading assignments useful? If not, do you have any recommendations?\n",
    "\n",
    "**Comments:**"
   ]
  },
  {
   "cell_type": "markdown",
   "metadata": {},
   "source": [
    "**C)** Would you like to have extra theoretical lessons (teaching) rather than working on homeworks, midterm projects and final report?\n",
    "\n",
    "**Comments:**"
   ]
  },
  {
   "cell_type": "markdown",
   "metadata": {},
   "source": [
    "**D)** Did the course meet your expectations so far? Please try to provide some feedback.\n",
    "\n",
    "**Comments:**"
   ]
  },
  {
   "cell_type": "markdown",
   "metadata": {},
   "source": [
    "**THANK YOU**"
   ]
  }
 ],
 "metadata": {
  "kernelspec": {
   "display_name": "Python 2",
   "language": "python",
   "name": "python2"
  },
  "language_info": {
   "codemirror_mode": {
    "name": "ipython",
    "version": 2
   },
   "file_extension": ".py",
   "mimetype": "text/x-python",
   "name": "python",
   "nbconvert_exporter": "python",
   "pygments_lexer": "ipython2",
   "version": "2.7.11"
  }
 },
 "nbformat": 4,
 "nbformat_minor": 0
}
